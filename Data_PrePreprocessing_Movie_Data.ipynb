{
 "cells": [
  {
   "cell_type": "code",
   "execution_count": 1,
   "metadata": {},
   "outputs": [],
   "source": [
    "import numpy as np\n",
    "import pandas as pd\n",
    "import warnings \n",
    "warnings.filterwarnings('ignore')"
   ]
  },
  {
   "cell_type": "code",
   "execution_count": 2,
   "metadata": {},
   "outputs": [],
   "source": [
    "Movie_Data = pd.read_csv('movies_metadata.csv')"
   ]
  },
  {
   "cell_type": "code",
   "execution_count": 3,
   "metadata": {},
   "outputs": [
    {
     "name": "stdout",
     "output_type": "stream",
     "text": [
      "<class 'pandas.core.frame.DataFrame'>\n",
      "RangeIndex: 45466 entries, 0 to 45465\n",
      "Data columns (total 24 columns):\n",
      " #   Column                 Non-Null Count  Dtype  \n",
      "---  ------                 --------------  -----  \n",
      " 0   adult                  45466 non-null  object \n",
      " 1   belongs_to_collection  4494 non-null   object \n",
      " 2   budget                 45466 non-null  object \n",
      " 3   genres                 45466 non-null  object \n",
      " 4   homepage               7782 non-null   object \n",
      " 5   id                     45466 non-null  object \n",
      " 6   imdb_id                45449 non-null  object \n",
      " 7   original_language      45455 non-null  object \n",
      " 8   original_title         45466 non-null  object \n",
      " 9   overview               44512 non-null  object \n",
      " 10  popularity             45461 non-null  object \n",
      " 11  poster_path            45080 non-null  object \n",
      " 12  production_companies   45463 non-null  object \n",
      " 13  production_countries   45463 non-null  object \n",
      " 14  release_date           45379 non-null  object \n",
      " 15  revenue                45460 non-null  float64\n",
      " 16  runtime                45203 non-null  float64\n",
      " 17  spoken_languages       45460 non-null  object \n",
      " 18  status                 45379 non-null  object \n",
      " 19  tagline                20412 non-null  object \n",
      " 20  title                  45460 non-null  object \n",
      " 21  video                  45460 non-null  object \n",
      " 22  vote_average           45460 non-null  float64\n",
      " 23  vote_count             45460 non-null  float64\n",
      "dtypes: float64(4), object(20)\n",
      "memory usage: 8.3+ MB\n"
     ]
    }
   ],
   "source": [
    "Movie_Data.info()"
   ]
  },
  {
   "cell_type": "code",
   "execution_count": 4,
   "metadata": {},
   "outputs": [
    {
     "data": {
      "text/plain": [
       "(45466, 24)"
      ]
     },
     "execution_count": 4,
     "metadata": {},
     "output_type": "execute_result"
    }
   ],
   "source": [
    "Movie_Data.shape"
   ]
  },
  {
   "cell_type": "code",
   "execution_count": 5,
   "metadata": {
    "scrolled": false
   },
   "outputs": [
    {
     "data": {
      "text/plain": [
       "Index(['adult', 'belongs_to_collection', 'budget', 'genres', 'homepage', 'id',\n",
       "       'imdb_id', 'original_language', 'original_title', 'overview',\n",
       "       'popularity', 'poster_path', 'production_companies',\n",
       "       'production_countries', 'release_date', 'revenue', 'runtime',\n",
       "       'spoken_languages', 'status', 'tagline', 'title', 'video',\n",
       "       'vote_average', 'vote_count'],\n",
       "      dtype='object')"
      ]
     },
     "execution_count": 5,
     "metadata": {},
     "output_type": "execute_result"
    }
   ],
   "source": [
    "Movie_Data.columns"
   ]
  },
  {
   "cell_type": "code",
   "execution_count": 6,
   "metadata": {},
   "outputs": [
    {
     "data": {
      "text/plain": [
       "35587    2014-01-01\n",
       "Name: id, dtype: object"
      ]
     },
     "execution_count": 6,
     "metadata": {},
     "output_type": "execute_result"
    }
   ],
   "source": [
    "Movie_Data['id'][Movie_Data['id']=='2014-01-01']"
   ]
  },
  {
   "cell_type": "code",
   "execution_count": 7,
   "metadata": {},
   "outputs": [
    {
     "data": {
      "text/plain": [
       "'0'"
      ]
     },
     "execution_count": 7,
     "metadata": {},
     "output_type": "execute_result"
    }
   ],
   "source": [
    "Movie_Data['imdb_id'].iloc[29503]"
   ]
  },
  {
   "cell_type": "code",
   "execution_count": 8,
   "metadata": {},
   "outputs": [],
   "source": [
    "Movie_Data.drop(axis=0, index=[29503,19730,35587], inplace=True)"
   ]
  },
  {
   "cell_type": "code",
   "execution_count": 9,
   "metadata": {},
   "outputs": [],
   "source": [
    "Movie_Data['id']= Movie_Data['id'].astype(int)"
   ]
  },
  {
   "cell_type": "code",
   "execution_count": 10,
   "metadata": {},
   "outputs": [],
   "source": [
    "Cols = ['genres','id','original_title']"
   ]
  },
  {
   "cell_type": "code",
   "execution_count": 11,
   "metadata": {},
   "outputs": [],
   "source": [
    "Movie_Data_New = Movie_Data[Cols]"
   ]
  },
  {
   "cell_type": "code",
   "execution_count": 12,
   "metadata": {},
   "outputs": [
    {
     "name": "stdout",
     "output_type": "stream",
     "text": [
      "<class 'pandas.core.frame.DataFrame'>\n",
      "Int64Index: 45463 entries, 0 to 45465\n",
      "Data columns (total 3 columns):\n",
      " #   Column          Non-Null Count  Dtype \n",
      "---  ------          --------------  ----- \n",
      " 0   genres          45463 non-null  object\n",
      " 1   id              45463 non-null  int32 \n",
      " 2   original_title  45463 non-null  object\n",
      "dtypes: int32(1), object(2)\n",
      "memory usage: 1.2+ MB\n"
     ]
    }
   ],
   "source": [
    "Movie_Data_New.info()"
   ]
  },
  {
   "cell_type": "code",
   "execution_count": 13,
   "metadata": {},
   "outputs": [],
   "source": [
    "Movie_Data_New.sort_values(by = \"id\", axis=0, ascending=True,inplace=True)"
   ]
  },
  {
   "cell_type": "code",
   "execution_count": 14,
   "metadata": {
    "scrolled": false
   },
   "outputs": [
    {
     "data": {
      "text/html": [
       "<div>\n",
       "<style scoped>\n",
       "    .dataframe tbody tr th:only-of-type {\n",
       "        vertical-align: middle;\n",
       "    }\n",
       "\n",
       "    .dataframe tbody tr th {\n",
       "        vertical-align: top;\n",
       "    }\n",
       "\n",
       "    .dataframe thead th {\n",
       "        text-align: right;\n",
       "    }\n",
       "</style>\n",
       "<table border=\"1\" class=\"dataframe\">\n",
       "  <thead>\n",
       "    <tr style=\"text-align: right;\">\n",
       "      <th></th>\n",
       "      <th>genres</th>\n",
       "      <th>id</th>\n",
       "      <th>original_title</th>\n",
       "    </tr>\n",
       "  </thead>\n",
       "  <tbody>\n",
       "    <tr>\n",
       "      <th>4342</th>\n",
       "      <td>[{'id': 18, 'name': 'Drama'}, {'id': 80, 'name...</td>\n",
       "      <td>2</td>\n",
       "      <td>Ariel</td>\n",
       "    </tr>\n",
       "    <tr>\n",
       "      <th>12947</th>\n",
       "      <td>[{'id': 18, 'name': 'Drama'}, {'id': 35, 'name...</td>\n",
       "      <td>3</td>\n",
       "      <td>Varjoja paratiisissa</td>\n",
       "    </tr>\n",
       "    <tr>\n",
       "      <th>17</th>\n",
       "      <td>[{'id': 80, 'name': 'Crime'}, {'id': 35, 'name...</td>\n",
       "      <td>5</td>\n",
       "      <td>Four Rooms</td>\n",
       "    </tr>\n",
       "    <tr>\n",
       "      <th>474</th>\n",
       "      <td>[{'id': 28, 'name': 'Action'}, {'id': 53, 'nam...</td>\n",
       "      <td>6</td>\n",
       "      <td>Judgment Night</td>\n",
       "    </tr>\n",
       "    <tr>\n",
       "      <th>256</th>\n",
       "      <td>[{'id': 12, 'name': 'Adventure'}, {'id': 28, '...</td>\n",
       "      <td>11</td>\n",
       "      <td>Star Wars</td>\n",
       "    </tr>\n",
       "  </tbody>\n",
       "</table>\n",
       "</div>"
      ],
      "text/plain": [
       "                                                  genres  id  \\\n",
       "4342   [{'id': 18, 'name': 'Drama'}, {'id': 80, 'name...   2   \n",
       "12947  [{'id': 18, 'name': 'Drama'}, {'id': 35, 'name...   3   \n",
       "17     [{'id': 80, 'name': 'Crime'}, {'id': 35, 'name...   5   \n",
       "474    [{'id': 28, 'name': 'Action'}, {'id': 53, 'nam...   6   \n",
       "256    [{'id': 12, 'name': 'Adventure'}, {'id': 28, '...  11   \n",
       "\n",
       "             original_title  \n",
       "4342                  Ariel  \n",
       "12947  Varjoja paratiisissa  \n",
       "17               Four Rooms  \n",
       "474          Judgment Night  \n",
       "256               Star Wars  "
      ]
     },
     "execution_count": 14,
     "metadata": {},
     "output_type": "execute_result"
    }
   ],
   "source": [
    "Movie_Data_New.head(5)"
   ]
  },
  {
   "cell_type": "code",
   "execution_count": 15,
   "metadata": {},
   "outputs": [],
   "source": [
    "import ast"
   ]
  },
  {
   "cell_type": "code",
   "execution_count": 16,
   "metadata": {},
   "outputs": [],
   "source": [
    "Movie_Data_New['genres'] = Movie_Data_New['genres'].map(lambda x: ast.literal_eval(x))"
   ]
  },
  {
   "cell_type": "code",
   "execution_count": 17,
   "metadata": {},
   "outputs": [],
   "source": [
    "def make_genresList(x):\n",
    "    gen = []\n",
    "    st = \" \"\n",
    "    for i in x:\n",
    "        if i.get('name') == 'Science Fiction':\n",
    "            scifi = 'Sci-Fi'\n",
    "            gen.append(scifi)\n",
    "        else:\n",
    "            gen.append(i.get('name'))\n",
    "    if gen == []:\n",
    "        return np.NaN\n",
    "    else:\n",
    "        return (st.join(gen))"
   ]
  },
  {
   "cell_type": "code",
   "execution_count": 18,
   "metadata": {},
   "outputs": [],
   "source": [
    "Movie_Data_New['genres_list'] = Movie_Data_New['genres'].map(lambda x: make_genresList(x))"
   ]
  },
  {
   "cell_type": "code",
   "execution_count": 19,
   "metadata": {},
   "outputs": [],
   "source": [
    "Movie_Data_New.drop(axis=1,columns=[\"genres\"], inplace=True)"
   ]
  },
  {
   "cell_type": "code",
   "execution_count": 20,
   "metadata": {},
   "outputs": [
    {
     "data": {
      "text/html": [
       "<div>\n",
       "<style scoped>\n",
       "    .dataframe tbody tr th:only-of-type {\n",
       "        vertical-align: middle;\n",
       "    }\n",
       "\n",
       "    .dataframe tbody tr th {\n",
       "        vertical-align: top;\n",
       "    }\n",
       "\n",
       "    .dataframe thead th {\n",
       "        text-align: right;\n",
       "    }\n",
       "</style>\n",
       "<table border=\"1\" class=\"dataframe\">\n",
       "  <thead>\n",
       "    <tr style=\"text-align: right;\">\n",
       "      <th></th>\n",
       "      <th>id</th>\n",
       "      <th>original_title</th>\n",
       "      <th>genres_list</th>\n",
       "    </tr>\n",
       "  </thead>\n",
       "  <tbody>\n",
       "    <tr>\n",
       "      <th>4342</th>\n",
       "      <td>2</td>\n",
       "      <td>Ariel</td>\n",
       "      <td>Drama Crime</td>\n",
       "    </tr>\n",
       "    <tr>\n",
       "      <th>12947</th>\n",
       "      <td>3</td>\n",
       "      <td>Varjoja paratiisissa</td>\n",
       "      <td>Drama Comedy</td>\n",
       "    </tr>\n",
       "    <tr>\n",
       "      <th>17</th>\n",
       "      <td>5</td>\n",
       "      <td>Four Rooms</td>\n",
       "      <td>Crime Comedy</td>\n",
       "    </tr>\n",
       "    <tr>\n",
       "      <th>474</th>\n",
       "      <td>6</td>\n",
       "      <td>Judgment Night</td>\n",
       "      <td>Action Thriller Crime</td>\n",
       "    </tr>\n",
       "    <tr>\n",
       "      <th>256</th>\n",
       "      <td>11</td>\n",
       "      <td>Star Wars</td>\n",
       "      <td>Adventure Action Sci-Fi</td>\n",
       "    </tr>\n",
       "  </tbody>\n",
       "</table>\n",
       "</div>"
      ],
      "text/plain": [
       "       id        original_title              genres_list\n",
       "4342    2                 Ariel              Drama Crime\n",
       "12947   3  Varjoja paratiisissa             Drama Comedy\n",
       "17      5            Four Rooms             Crime Comedy\n",
       "474     6        Judgment Night    Action Thriller Crime\n",
       "256    11             Star Wars  Adventure Action Sci-Fi"
      ]
     },
     "execution_count": 20,
     "metadata": {},
     "output_type": "execute_result"
    }
   ],
   "source": [
    "Movie_Data_New.head()"
   ]
  },
  {
   "cell_type": "code",
   "execution_count": 21,
   "metadata": {},
   "outputs": [],
   "source": [
    "Movies_Data_Small = Movie_Data_New[0:12000]"
   ]
  },
  {
   "cell_type": "code",
   "execution_count": 22,
   "metadata": {},
   "outputs": [
    {
     "data": {
      "text/plain": [
       "(12000, 3)"
      ]
     },
     "execution_count": 22,
     "metadata": {},
     "output_type": "execute_result"
    }
   ],
   "source": [
    "Movies_Data_Small.shape"
   ]
  },
  {
   "cell_type": "code",
   "execution_count": 23,
   "metadata": {},
   "outputs": [],
   "source": [
    "Credits = pd.read_csv('Credit_Data.csv')"
   ]
  },
  {
   "cell_type": "code",
   "execution_count": 24,
   "metadata": {},
   "outputs": [],
   "source": [
    "Credits.sort_values(by = \"id\", axis=0, ascending=True,inplace=True)"
   ]
  },
  {
   "cell_type": "code",
   "execution_count": 25,
   "metadata": {
    "scrolled": false
   },
   "outputs": [
    {
     "data": {
      "text/html": [
       "<div>\n",
       "<style scoped>\n",
       "    .dataframe tbody tr th:only-of-type {\n",
       "        vertical-align: middle;\n",
       "    }\n",
       "\n",
       "    .dataframe tbody tr th {\n",
       "        vertical-align: top;\n",
       "    }\n",
       "\n",
       "    .dataframe thead th {\n",
       "        text-align: right;\n",
       "    }\n",
       "</style>\n",
       "<table border=\"1\" class=\"dataframe\">\n",
       "  <thead>\n",
       "    <tr style=\"text-align: right;\">\n",
       "      <th></th>\n",
       "      <th>id</th>\n",
       "      <th>Actor1</th>\n",
       "      <th>Actor2</th>\n",
       "      <th>Actor3</th>\n",
       "      <th>Director_Name</th>\n",
       "    </tr>\n",
       "  </thead>\n",
       "  <tbody>\n",
       "    <tr>\n",
       "      <th>4342</th>\n",
       "      <td>2</td>\n",
       "      <td>Turo Pajala</td>\n",
       "      <td>Susanna Haavisto</td>\n",
       "      <td>Matti Pellonpää</td>\n",
       "      <td>Aki Kaurismäki</td>\n",
       "    </tr>\n",
       "    <tr>\n",
       "      <th>12947</th>\n",
       "      <td>3</td>\n",
       "      <td>Matti Pellonpää</td>\n",
       "      <td>Kati Outinen</td>\n",
       "      <td>Sakari Kuosmanen</td>\n",
       "      <td>Aki Kaurismäki</td>\n",
       "    </tr>\n",
       "    <tr>\n",
       "      <th>17</th>\n",
       "      <td>5</td>\n",
       "      <td>Tim Roth</td>\n",
       "      <td>Antonio Banderas</td>\n",
       "      <td>Jennifer Beals</td>\n",
       "      <td>Allison Anders Alexandre Rockwell Robert Rodri...</td>\n",
       "    </tr>\n",
       "    <tr>\n",
       "      <th>474</th>\n",
       "      <td>6</td>\n",
       "      <td>Emilio Estevez</td>\n",
       "      <td>Cuba Gooding Jr.</td>\n",
       "      <td>Denis Leary</td>\n",
       "      <td>Stephen Hopkins</td>\n",
       "    </tr>\n",
       "    <tr>\n",
       "      <th>256</th>\n",
       "      <td>11</td>\n",
       "      <td>Mark Hamill</td>\n",
       "      <td>Harrison Ford</td>\n",
       "      <td>Carrie Fisher</td>\n",
       "      <td>George Lucas</td>\n",
       "    </tr>\n",
       "  </tbody>\n",
       "</table>\n",
       "</div>"
      ],
      "text/plain": [
       "       id           Actor1            Actor2            Actor3  \\\n",
       "4342    2      Turo Pajala  Susanna Haavisto   Matti Pellonpää   \n",
       "12947   3  Matti Pellonpää      Kati Outinen  Sakari Kuosmanen   \n",
       "17      5         Tim Roth  Antonio Banderas    Jennifer Beals   \n",
       "474     6   Emilio Estevez  Cuba Gooding Jr.       Denis Leary   \n",
       "256    11      Mark Hamill     Harrison Ford     Carrie Fisher   \n",
       "\n",
       "                                           Director_Name  \n",
       "4342                                      Aki Kaurismäki  \n",
       "12947                                     Aki Kaurismäki  \n",
       "17     Allison Anders Alexandre Rockwell Robert Rodri...  \n",
       "474                                      Stephen Hopkins  \n",
       "256                                         George Lucas  "
      ]
     },
     "execution_count": 25,
     "metadata": {},
     "output_type": "execute_result"
    }
   ],
   "source": [
    "Credits.head(5)"
   ]
  },
  {
   "cell_type": "code",
   "execution_count": 26,
   "metadata": {},
   "outputs": [],
   "source": [
    "Credits.sort_values(by = \"id\", axis=0, ascending=True,inplace=True)"
   ]
  },
  {
   "cell_type": "code",
   "execution_count": 27,
   "metadata": {},
   "outputs": [
    {
     "data": {
      "text/html": [
       "<div>\n",
       "<style scoped>\n",
       "    .dataframe tbody tr th:only-of-type {\n",
       "        vertical-align: middle;\n",
       "    }\n",
       "\n",
       "    .dataframe tbody tr th {\n",
       "        vertical-align: top;\n",
       "    }\n",
       "\n",
       "    .dataframe thead th {\n",
       "        text-align: right;\n",
       "    }\n",
       "</style>\n",
       "<table border=\"1\" class=\"dataframe\">\n",
       "  <thead>\n",
       "    <tr style=\"text-align: right;\">\n",
       "      <th></th>\n",
       "      <th>id</th>\n",
       "      <th>Actor1</th>\n",
       "      <th>Actor2</th>\n",
       "      <th>Actor3</th>\n",
       "      <th>Director_Name</th>\n",
       "    </tr>\n",
       "  </thead>\n",
       "  <tbody>\n",
       "    <tr>\n",
       "      <th>4342</th>\n",
       "      <td>2</td>\n",
       "      <td>Turo Pajala</td>\n",
       "      <td>Susanna Haavisto</td>\n",
       "      <td>Matti Pellonpää</td>\n",
       "      <td>Aki Kaurismäki</td>\n",
       "    </tr>\n",
       "    <tr>\n",
       "      <th>12947</th>\n",
       "      <td>3</td>\n",
       "      <td>Matti Pellonpää</td>\n",
       "      <td>Kati Outinen</td>\n",
       "      <td>Sakari Kuosmanen</td>\n",
       "      <td>Aki Kaurismäki</td>\n",
       "    </tr>\n",
       "    <tr>\n",
       "      <th>17</th>\n",
       "      <td>5</td>\n",
       "      <td>Tim Roth</td>\n",
       "      <td>Antonio Banderas</td>\n",
       "      <td>Jennifer Beals</td>\n",
       "      <td>Allison Anders Alexandre Rockwell Robert Rodri...</td>\n",
       "    </tr>\n",
       "    <tr>\n",
       "      <th>474</th>\n",
       "      <td>6</td>\n",
       "      <td>Emilio Estevez</td>\n",
       "      <td>Cuba Gooding Jr.</td>\n",
       "      <td>Denis Leary</td>\n",
       "      <td>Stephen Hopkins</td>\n",
       "    </tr>\n",
       "    <tr>\n",
       "      <th>256</th>\n",
       "      <td>11</td>\n",
       "      <td>Mark Hamill</td>\n",
       "      <td>Harrison Ford</td>\n",
       "      <td>Carrie Fisher</td>\n",
       "      <td>George Lucas</td>\n",
       "    </tr>\n",
       "  </tbody>\n",
       "</table>\n",
       "</div>"
      ],
      "text/plain": [
       "       id           Actor1            Actor2            Actor3  \\\n",
       "4342    2      Turo Pajala  Susanna Haavisto   Matti Pellonpää   \n",
       "12947   3  Matti Pellonpää      Kati Outinen  Sakari Kuosmanen   \n",
       "17      5         Tim Roth  Antonio Banderas    Jennifer Beals   \n",
       "474     6   Emilio Estevez  Cuba Gooding Jr.       Denis Leary   \n",
       "256    11      Mark Hamill     Harrison Ford     Carrie Fisher   \n",
       "\n",
       "                                           Director_Name  \n",
       "4342                                      Aki Kaurismäki  \n",
       "12947                                     Aki Kaurismäki  \n",
       "17     Allison Anders Alexandre Rockwell Robert Rodri...  \n",
       "474                                      Stephen Hopkins  \n",
       "256                                         George Lucas  "
      ]
     },
     "execution_count": 27,
     "metadata": {},
     "output_type": "execute_result"
    }
   ],
   "source": [
    "Credits.head(5)"
   ]
  },
  {
   "cell_type": "code",
   "execution_count": 28,
   "metadata": {},
   "outputs": [],
   "source": [
    "Credit_Data_Small = Credits[0:12000]"
   ]
  },
  {
   "cell_type": "code",
   "execution_count": 29,
   "metadata": {},
   "outputs": [],
   "source": [
    "Final_Data = pd.merge(Credit_Data_Small,Movies_Data_Small,on='id',how= 'left')"
   ]
  },
  {
   "cell_type": "code",
   "execution_count": 30,
   "metadata": {},
   "outputs": [
    {
     "data": {
      "text/html": [
       "<div>\n",
       "<style scoped>\n",
       "    .dataframe tbody tr th:only-of-type {\n",
       "        vertical-align: middle;\n",
       "    }\n",
       "\n",
       "    .dataframe tbody tr th {\n",
       "        vertical-align: top;\n",
       "    }\n",
       "\n",
       "    .dataframe thead th {\n",
       "        text-align: right;\n",
       "    }\n",
       "</style>\n",
       "<table border=\"1\" class=\"dataframe\">\n",
       "  <thead>\n",
       "    <tr style=\"text-align: right;\">\n",
       "      <th></th>\n",
       "      <th>id</th>\n",
       "      <th>Actor1</th>\n",
       "      <th>Actor2</th>\n",
       "      <th>Actor3</th>\n",
       "      <th>Director_Name</th>\n",
       "      <th>original_title</th>\n",
       "      <th>genres_list</th>\n",
       "    </tr>\n",
       "  </thead>\n",
       "  <tbody>\n",
       "    <tr>\n",
       "      <th>11974</th>\n",
       "      <td>27679</td>\n",
       "      <td>Max Gail</td>\n",
       "      <td>Adam Baldwin</td>\n",
       "      <td>Mr. T</td>\n",
       "      <td>Joel Schumacher</td>\n",
       "      <td>D.C. Cab</td>\n",
       "      <td>Adventure Comedy Crime</td>\n",
       "    </tr>\n",
       "    <tr>\n",
       "      <th>11975</th>\n",
       "      <td>27681</td>\n",
       "      <td>Katherine Heigl</td>\n",
       "      <td>Danielle Harris</td>\n",
       "      <td>Donnie Jeffcoat</td>\n",
       "      <td>Blair Treu</td>\n",
       "      <td>Wish Upon a Star</td>\n",
       "      <td>Family Comedy Fantasy</td>\n",
       "    </tr>\n",
       "    <tr>\n",
       "      <th>11976</th>\n",
       "      <td>27683</td>\n",
       "      <td>Michael Keaton</td>\n",
       "      <td>Brendan Fraser</td>\n",
       "      <td>Daniel Stern</td>\n",
       "      <td>Michael Caleo</td>\n",
       "      <td>The Last Time</td>\n",
       "      <td>Drama Romance</td>\n",
       "    </tr>\n",
       "    <tr>\n",
       "      <th>11977</th>\n",
       "      <td>27686</td>\n",
       "      <td>Jeanne Crain</td>\n",
       "      <td>Dana Andrews</td>\n",
       "      <td>Dick Haymes</td>\n",
       "      <td>Walter Lang</td>\n",
       "      <td>State Fair</td>\n",
       "      <td>Music Romance</td>\n",
       "    </tr>\n",
       "    <tr>\n",
       "      <th>11978</th>\n",
       "      <td>27696</td>\n",
       "      <td>Tina Krause</td>\n",
       "      <td>Jacqueline Hickel</td>\n",
       "      <td>Mickey Rooney</td>\n",
       "      <td>Mark Vadik</td>\n",
       "      <td>The Thirsting</td>\n",
       "      <td>Horror</td>\n",
       "    </tr>\n",
       "    <tr>\n",
       "      <th>11979</th>\n",
       "      <td>27698</td>\n",
       "      <td>Shun Oguri</td>\n",
       "      <td>Yūsuke Santamaria</td>\n",
       "      <td>Keisuke Koide</td>\n",
       "      <td>Yûichi Satô</td>\n",
       "      <td>キサラギ</td>\n",
       "      <td>Comedy Mystery</td>\n",
       "    </tr>\n",
       "    <tr>\n",
       "      <th>11980</th>\n",
       "      <td>27699</td>\n",
       "      <td>Howard Vernon</td>\n",
       "      <td>Conrado San Martín</td>\n",
       "      <td>Diana Lorys</td>\n",
       "      <td>Jesús Franco</td>\n",
       "      <td>Gritos en la noche</td>\n",
       "      <td>Horror Thriller</td>\n",
       "    </tr>\n",
       "    <tr>\n",
       "      <th>11981</th>\n",
       "      <td>27703</td>\n",
       "      <td>Jennifer O'Neill</td>\n",
       "      <td>Gabriele Ferzetti</td>\n",
       "      <td>Marc Porel</td>\n",
       "      <td>Lucio Fulci</td>\n",
       "      <td>Sette note in nero</td>\n",
       "      <td>Mystery Thriller Horror</td>\n",
       "    </tr>\n",
       "    <tr>\n",
       "      <th>11982</th>\n",
       "      <td>27706</td>\n",
       "      <td>Richard Johnson</td>\n",
       "      <td>Joanna Cassidy</td>\n",
       "      <td>Ida Galli</td>\n",
       "      <td>Massimo Dallamano</td>\n",
       "      <td>Il medaglione insanguinato</td>\n",
       "      <td>Horror</td>\n",
       "    </tr>\n",
       "    <tr>\n",
       "      <th>11983</th>\n",
       "      <td>27709</td>\n",
       "      <td>George Maharis</td>\n",
       "      <td>Richard Basehart</td>\n",
       "      <td>Anne Francis</td>\n",
       "      <td>John Sturges</td>\n",
       "      <td>The Satan Bug</td>\n",
       "      <td>Mystery Sci-Fi Thriller Crime</td>\n",
       "    </tr>\n",
       "    <tr>\n",
       "      <th>11984</th>\n",
       "      <td>27711</td>\n",
       "      <td>Ángel Vargas</td>\n",
       "      <td>Vera Yell</td>\n",
       "      <td>Lee Marks</td>\n",
       "      <td>Craig Ross Jr.</td>\n",
       "      <td>Killjoy</td>\n",
       "      <td>Horror</td>\n",
       "    </tr>\n",
       "    <tr>\n",
       "      <th>11985</th>\n",
       "      <td>27712</td>\n",
       "      <td>Logan Alexander</td>\n",
       "      <td>Debbie Rochon</td>\n",
       "      <td>Trent Haaga</td>\n",
       "      <td>Tammi Sutton</td>\n",
       "      <td>Killjoy 2: Deliverance from Evil</td>\n",
       "      <td>Horror</td>\n",
       "    </tr>\n",
       "    <tr>\n",
       "      <th>11986</th>\n",
       "      <td>27716</td>\n",
       "      <td>Barry White</td>\n",
       "      <td>Charles Gordone</td>\n",
       "      <td>Scatman Crothers</td>\n",
       "      <td>Ralph Bakshi</td>\n",
       "      <td>Coonskin</td>\n",
       "      <td>Action Animation Comedy Crime Drama</td>\n",
       "    </tr>\n",
       "    <tr>\n",
       "      <th>11987</th>\n",
       "      <td>27717</td>\n",
       "      <td>Dean Fredericks</td>\n",
       "      <td>Coleen Gray</td>\n",
       "      <td>Anthony Dexter</td>\n",
       "      <td>William Marshall</td>\n",
       "      <td>The Phantom Planet</td>\n",
       "      <td>Sci-Fi</td>\n",
       "    </tr>\n",
       "    <tr>\n",
       "      <th>11988</th>\n",
       "      <td>27719</td>\n",
       "      <td>Dolph Lundgren</td>\n",
       "      <td>Roy Scheider</td>\n",
       "      <td>Michael Sarrazin</td>\n",
       "      <td>Frédéric Forestier</td>\n",
       "      <td>The Peacekeeper</td>\n",
       "      <td>Action Thriller</td>\n",
       "    </tr>\n",
       "    <tr>\n",
       "      <th>11989</th>\n",
       "      <td>27721</td>\n",
       "      <td>Nejat İşler</td>\n",
       "      <td>Melis Birkan</td>\n",
       "      <td>Çağan Irmak</td>\n",
       "      <td>Serdar Akar</td>\n",
       "      <td>Barda</td>\n",
       "      <td>Drama</td>\n",
       "    </tr>\n",
       "    <tr>\n",
       "      <th>11990</th>\n",
       "      <td>27723</td>\n",
       "      <td>Lauren Ambrose</td>\n",
       "      <td>Nicholas Brendon</td>\n",
       "      <td>Amy Adams</td>\n",
       "      <td>Robert Lee King</td>\n",
       "      <td>Psycho Beach Party</td>\n",
       "      <td>Comedy</td>\n",
       "    </tr>\n",
       "    <tr>\n",
       "      <th>11991</th>\n",
       "      <td>27724</td>\n",
       "      <td>Kristi Casey</td>\n",
       "      <td>David Weber</td>\n",
       "      <td>Zoe Cooper</td>\n",
       "      <td>Bret Wood</td>\n",
       "      <td>Psychopathia Sexualis</td>\n",
       "      <td>Drama Romance</td>\n",
       "    </tr>\n",
       "    <tr>\n",
       "      <th>11992</th>\n",
       "      <td>27725</td>\n",
       "      <td>Ida Lupino</td>\n",
       "      <td>Humphrey Bogart</td>\n",
       "      <td>Alan Curtis</td>\n",
       "      <td>Raoul Walsh</td>\n",
       "      <td>High Sierra</td>\n",
       "      <td>Adventure Drama Thriller Crime</td>\n",
       "    </tr>\n",
       "    <tr>\n",
       "      <th>11993</th>\n",
       "      <td>27726</td>\n",
       "      <td>Michael Moriarty</td>\n",
       "      <td>Candy Clark</td>\n",
       "      <td>Richard Roundtree</td>\n",
       "      <td>Larry Cohen</td>\n",
       "      <td>Q</td>\n",
       "      <td>Drama Horror Fantasy</td>\n",
       "    </tr>\n",
       "    <tr>\n",
       "      <th>11994</th>\n",
       "      <td>27730</td>\n",
       "      <td>Cornélia Wilms</td>\n",
       "      <td>Véronique Catanzaro</td>\n",
       "      <td>Patrick Guillemin</td>\n",
       "      <td>Pierre B. Reinhard</td>\n",
       "      <td>La revanche des mortes vivantes</td>\n",
       "      <td>Horror Foreign</td>\n",
       "    </tr>\n",
       "    <tr>\n",
       "      <th>11995</th>\n",
       "      <td>27735</td>\n",
       "      <td>Matthew Broderick</td>\n",
       "      <td>Sanaa Lathan</td>\n",
       "      <td>Michael Kenneth Williams</td>\n",
       "      <td>Joshua Goldin</td>\n",
       "      <td>Wonderful World</td>\n",
       "      <td>Comedy Drama Romance</td>\n",
       "    </tr>\n",
       "    <tr>\n",
       "      <th>11996</th>\n",
       "      <td>27738</td>\n",
       "      <td>Joaquin Phoenix</td>\n",
       "      <td>Peter Billingsley</td>\n",
       "      <td>Whip Hubley</td>\n",
       "      <td>Rick Rosenthal</td>\n",
       "      <td>Russkies</td>\n",
       "      <td>Drama Family</td>\n",
       "    </tr>\n",
       "    <tr>\n",
       "      <th>11997</th>\n",
       "      <td>27739</td>\n",
       "      <td>Joseph Haggerty</td>\n",
       "      <td>Beverly Lynne</td>\n",
       "      <td>Janet Tracy Keijser</td>\n",
       "      <td>Brad Sykes</td>\n",
       "      <td>The Zombie Chronicles</td>\n",
       "      <td>NaN</td>\n",
       "    </tr>\n",
       "    <tr>\n",
       "      <th>11998</th>\n",
       "      <td>27740</td>\n",
       "      <td>Michael Moriarty</td>\n",
       "      <td>Ricky Addison Reed</td>\n",
       "      <td>Samuel Fuller</td>\n",
       "      <td>Larry Cohen</td>\n",
       "      <td>A Return to Salem's Lot</td>\n",
       "      <td>Horror</td>\n",
       "    </tr>\n",
       "    <tr>\n",
       "      <th>11999</th>\n",
       "      <td>27742</td>\n",
       "      <td>Koji Yakusho</td>\n",
       "      <td>Jun Fubuki</td>\n",
       "      <td>Tsuyoshi Kusanagi</td>\n",
       "      <td>Kiyoshi Kurosawa</td>\n",
       "      <td>降霊</td>\n",
       "      <td>Drama Horror</td>\n",
       "    </tr>\n",
       "    <tr>\n",
       "      <th>12000</th>\n",
       "      <td>27743</td>\n",
       "      <td>Thomas Haden Church</td>\n",
       "      <td>Justin Urich</td>\n",
       "      <td>Lisa Loeb</td>\n",
       "      <td>Trace Slobotkin</td>\n",
       "      <td>Serial Killing 4 Dummys</td>\n",
       "      <td>Horror Comedy</td>\n",
       "    </tr>\n",
       "    <tr>\n",
       "      <th>12001</th>\n",
       "      <td>27745</td>\n",
       "      <td>John Lydon</td>\n",
       "      <td>Steve Jones</td>\n",
       "      <td>Paul Cook</td>\n",
       "      <td>Julien Temple</td>\n",
       "      <td>The Filth and the Fury</td>\n",
       "      <td>Documentary Music</td>\n",
       "    </tr>\n",
       "    <tr>\n",
       "      <th>12002</th>\n",
       "      <td>27748</td>\n",
       "      <td>Melvin Chen</td>\n",
       "      <td>Erick Chun</td>\n",
       "      <td>Melvin Lee</td>\n",
       "      <td>Royston Tan</td>\n",
       "      <td>15: The Movie</td>\n",
       "      <td>Comedy Crime Drama Foreign</td>\n",
       "    </tr>\n",
       "    <tr>\n",
       "      <th>12003</th>\n",
       "      <td>27757</td>\n",
       "      <td>Kath Soucie</td>\n",
       "      <td>Frank Welker</td>\n",
       "      <td>NaN</td>\n",
       "      <td>Dave Edwards</td>\n",
       "      <td>The Little Engine That Could</td>\n",
       "      <td>Action Adventure Family</td>\n",
       "    </tr>\n",
       "    <tr>\n",
       "      <th>12004</th>\n",
       "      <td>27759</td>\n",
       "      <td>Charlton Heston</td>\n",
       "      <td>Ava Gardner</td>\n",
       "      <td>David Niven</td>\n",
       "      <td>Nicholas Ray Guy Green</td>\n",
       "      <td>55 Days at Peking</td>\n",
       "      <td>Action Drama History</td>\n",
       "    </tr>\n",
       "    <tr>\n",
       "      <th>12005</th>\n",
       "      <td>27764</td>\n",
       "      <td>Jennifer Rhodes</td>\n",
       "      <td>Kimberly McArthur</td>\n",
       "      <td>Patrick Lowe</td>\n",
       "      <td>Deborah Brock</td>\n",
       "      <td>Slumber Party Massacre II</td>\n",
       "      <td>Horror Comedy</td>\n",
       "    </tr>\n",
       "    <tr>\n",
       "      <th>12006</th>\n",
       "      <td>27766</td>\n",
       "      <td>Debbie Rochon</td>\n",
       "      <td>Grant Kramer</td>\n",
       "      <td>John Mowod</td>\n",
       "      <td>John A. Russo</td>\n",
       "      <td>Santa Claws</td>\n",
       "      <td>Horror</td>\n",
       "    </tr>\n",
       "    <tr>\n",
       "      <th>12007</th>\n",
       "      <td>27767</td>\n",
       "      <td>Keely Christian</td>\n",
       "      <td>Brittain Frye</td>\n",
       "      <td>Maria Ford</td>\n",
       "      <td>Sally Mattison</td>\n",
       "      <td>Slumber Party Massacre III</td>\n",
       "      <td>Horror Comedy</td>\n",
       "    </tr>\n",
       "    <tr>\n",
       "      <th>12008</th>\n",
       "      <td>27768</td>\n",
       "      <td>Billy Bob Thornton</td>\n",
       "      <td>Molly Ringwald</td>\n",
       "      <td>J.T. Walsh</td>\n",
       "      <td>George Hickenlooper</td>\n",
       "      <td>Some Folks Call It a Sling Blade</td>\n",
       "      <td>Drama Thriller</td>\n",
       "    </tr>\n",
       "    <tr>\n",
       "      <th>12009</th>\n",
       "      <td>27769</td>\n",
       "      <td>Tim Matheson</td>\n",
       "      <td>Brooke Adams</td>\n",
       "      <td>Robert Rusler</td>\n",
       "      <td>Tom McLoughlin</td>\n",
       "      <td>Sometimes They Come Back</td>\n",
       "      <td>Drama Horror Thriller</td>\n",
       "    </tr>\n",
       "    <tr>\n",
       "      <th>12010</th>\n",
       "      <td>27770</td>\n",
       "      <td>Michael Gross</td>\n",
       "      <td>Alexis Arquette</td>\n",
       "      <td>Hilary Swank</td>\n",
       "      <td>Adam Grossman</td>\n",
       "      <td>Sometimes They Come Back... Again</td>\n",
       "      <td>Horror</td>\n",
       "    </tr>\n",
       "    <tr>\n",
       "      <th>12011</th>\n",
       "      <td>27771</td>\n",
       "      <td>Clayton Rohner</td>\n",
       "      <td>Faith Ford</td>\n",
       "      <td>Max Perlich</td>\n",
       "      <td>Daniel Zelik Berk</td>\n",
       "      <td>Sometimes They Come Back... for More</td>\n",
       "      <td>Horror</td>\n",
       "    </tr>\n",
       "    <tr>\n",
       "      <th>12012</th>\n",
       "      <td>27777</td>\n",
       "      <td>Thomas Meighan</td>\n",
       "      <td>Louis Wolheim</td>\n",
       "      <td>Marie Prevost</td>\n",
       "      <td>Lewis Milestone</td>\n",
       "      <td>The Racket</td>\n",
       "      <td>Crime Drama</td>\n",
       "    </tr>\n",
       "    <tr>\n",
       "      <th>12013</th>\n",
       "      <td>27786</td>\n",
       "      <td>Patrick Swayze</td>\n",
       "      <td>Lisa Niemi</td>\n",
       "      <td>Anthony Zerbe</td>\n",
       "      <td>Lance Hool</td>\n",
       "      <td>Steel Dawn</td>\n",
       "      <td>Action Adventure Sci-Fi</td>\n",
       "    </tr>\n",
       "    <tr>\n",
       "      <th>12014</th>\n",
       "      <td>27791</td>\n",
       "      <td>Kevin Gage</td>\n",
       "      <td>Elizabeth Peña</td>\n",
       "      <td>Brett Harrelson</td>\n",
       "      <td>John Pieplow</td>\n",
       "      <td>Strangeland</td>\n",
       "      <td>Horror</td>\n",
       "    </tr>\n",
       "    <tr>\n",
       "      <th>12015</th>\n",
       "      <td>27793</td>\n",
       "      <td>Jason James Richter</td>\n",
       "      <td>Melody Kay</td>\n",
       "      <td>Kevin McNulty</td>\n",
       "      <td>Peter MacDonald</td>\n",
       "      <td>The NeverEnding Story III</td>\n",
       "      <td>Fantasy</td>\n",
       "    </tr>\n",
       "    <tr>\n",
       "      <th>12016</th>\n",
       "      <td>27799</td>\n",
       "      <td>Anne Suzuki</td>\n",
       "      <td>Yu Aoi</td>\n",
       "      <td>Tomohiro Kaku</td>\n",
       "      <td>Shunji Iwai</td>\n",
       "      <td>花とアリス</td>\n",
       "      <td>Drama Comedy Romance</td>\n",
       "    </tr>\n",
       "    <tr>\n",
       "      <th>12017</th>\n",
       "      <td>27804</td>\n",
       "      <td>River Phoenix</td>\n",
       "      <td>Samantha Mathis</td>\n",
       "      <td>Dermot Mulroney</td>\n",
       "      <td>Peter Bogdanovich</td>\n",
       "      <td>The Thing Called Love</td>\n",
       "      <td>Music Drama Romance</td>\n",
       "    </tr>\n",
       "    <tr>\n",
       "      <th>12018</th>\n",
       "      <td>27805</td>\n",
       "      <td>Grant Page</td>\n",
       "      <td>Monique van de Ven</td>\n",
       "      <td>Margaret Gerard</td>\n",
       "      <td>Brian Trenchard-Smith</td>\n",
       "      <td>Stunt Rock</td>\n",
       "      <td>Action Drama Music</td>\n",
       "    </tr>\n",
       "    <tr>\n",
       "      <th>12019</th>\n",
       "      <td>27813</td>\n",
       "      <td>Kevin Van Hentenryck</td>\n",
       "      <td>Terri Susan Smith</td>\n",
       "      <td>Beverly Bonner</td>\n",
       "      <td>Frank Henenlotter</td>\n",
       "      <td>Basket Case</td>\n",
       "      <td>Comedy Horror</td>\n",
       "    </tr>\n",
       "    <tr>\n",
       "      <th>12020</th>\n",
       "      <td>27814</td>\n",
       "      <td>Rick Hearst</td>\n",
       "      <td>Jennifer Lowry</td>\n",
       "      <td>Gordon MacDonald</td>\n",
       "      <td>Frank Henenlotter</td>\n",
       "      <td>Brain Damage</td>\n",
       "      <td>Comedy Horror</td>\n",
       "    </tr>\n",
       "    <tr>\n",
       "      <th>12021</th>\n",
       "      <td>27815</td>\n",
       "      <td>Kevin Van Hentenryck</td>\n",
       "      <td>Annie Ross</td>\n",
       "      <td>Heather Rattray</td>\n",
       "      <td>Frank Henenlotter</td>\n",
       "      <td>Basket Case 2</td>\n",
       "      <td>Horror</td>\n",
       "    </tr>\n",
       "    <tr>\n",
       "      <th>12022</th>\n",
       "      <td>27816</td>\n",
       "      <td>Kevin Van Hentenryck</td>\n",
       "      <td>Annie Ross</td>\n",
       "      <td>Gil Roper</td>\n",
       "      <td>Frank Henenlotter</td>\n",
       "      <td>Basket Case 3</td>\n",
       "      <td>Horror</td>\n",
       "    </tr>\n",
       "    <tr>\n",
       "      <th>12023</th>\n",
       "      <td>27824</td>\n",
       "      <td>Dan Montgomery Jr.</td>\n",
       "      <td>David Arnott</td>\n",
       "      <td>Jeri Ryan</td>\n",
       "      <td>Harry Ralston</td>\n",
       "      <td>The Last Man</td>\n",
       "      <td>Comedy</td>\n",
       "    </tr>\n",
       "  </tbody>\n",
       "</table>\n",
       "</div>"
      ],
      "text/plain": [
       "          id                Actor1               Actor2  \\\n",
       "11974  27679              Max Gail         Adam Baldwin   \n",
       "11975  27681       Katherine Heigl      Danielle Harris   \n",
       "11976  27683        Michael Keaton       Brendan Fraser   \n",
       "11977  27686          Jeanne Crain         Dana Andrews   \n",
       "11978  27696           Tina Krause    Jacqueline Hickel   \n",
       "11979  27698            Shun Oguri    Yūsuke Santamaria   \n",
       "11980  27699         Howard Vernon   Conrado San Martín   \n",
       "11981  27703      Jennifer O'Neill    Gabriele Ferzetti   \n",
       "11982  27706       Richard Johnson       Joanna Cassidy   \n",
       "11983  27709        George Maharis     Richard Basehart   \n",
       "11984  27711          Ángel Vargas            Vera Yell   \n",
       "11985  27712       Logan Alexander        Debbie Rochon   \n",
       "11986  27716           Barry White      Charles Gordone   \n",
       "11987  27717       Dean Fredericks          Coleen Gray   \n",
       "11988  27719        Dolph Lundgren         Roy Scheider   \n",
       "11989  27721           Nejat İşler         Melis Birkan   \n",
       "11990  27723        Lauren Ambrose     Nicholas Brendon   \n",
       "11991  27724          Kristi Casey          David Weber   \n",
       "11992  27725            Ida Lupino      Humphrey Bogart   \n",
       "11993  27726      Michael Moriarty          Candy Clark   \n",
       "11994  27730        Cornélia Wilms  Véronique Catanzaro   \n",
       "11995  27735     Matthew Broderick         Sanaa Lathan   \n",
       "11996  27738       Joaquin Phoenix    Peter Billingsley   \n",
       "11997  27739       Joseph Haggerty        Beverly Lynne   \n",
       "11998  27740      Michael Moriarty   Ricky Addison Reed   \n",
       "11999  27742          Koji Yakusho           Jun Fubuki   \n",
       "12000  27743   Thomas Haden Church         Justin Urich   \n",
       "12001  27745            John Lydon          Steve Jones   \n",
       "12002  27748           Melvin Chen           Erick Chun   \n",
       "12003  27757           Kath Soucie         Frank Welker   \n",
       "12004  27759       Charlton Heston          Ava Gardner   \n",
       "12005  27764       Jennifer Rhodes    Kimberly McArthur   \n",
       "12006  27766         Debbie Rochon         Grant Kramer   \n",
       "12007  27767       Keely Christian        Brittain Frye   \n",
       "12008  27768    Billy Bob Thornton       Molly Ringwald   \n",
       "12009  27769          Tim Matheson         Brooke Adams   \n",
       "12010  27770         Michael Gross      Alexis Arquette   \n",
       "12011  27771        Clayton Rohner           Faith Ford   \n",
       "12012  27777        Thomas Meighan        Louis Wolheim   \n",
       "12013  27786        Patrick Swayze           Lisa Niemi   \n",
       "12014  27791            Kevin Gage       Elizabeth Peña   \n",
       "12015  27793   Jason James Richter           Melody Kay   \n",
       "12016  27799           Anne Suzuki               Yu Aoi   \n",
       "12017  27804         River Phoenix      Samantha Mathis   \n",
       "12018  27805            Grant Page   Monique van de Ven   \n",
       "12019  27813  Kevin Van Hentenryck    Terri Susan Smith   \n",
       "12020  27814           Rick Hearst       Jennifer Lowry   \n",
       "12021  27815  Kevin Van Hentenryck           Annie Ross   \n",
       "12022  27816  Kevin Van Hentenryck           Annie Ross   \n",
       "12023  27824    Dan Montgomery Jr.         David Arnott   \n",
       "\n",
       "                         Actor3           Director_Name  \\\n",
       "11974                     Mr. T         Joel Schumacher   \n",
       "11975           Donnie Jeffcoat              Blair Treu   \n",
       "11976              Daniel Stern           Michael Caleo   \n",
       "11977               Dick Haymes             Walter Lang   \n",
       "11978             Mickey Rooney              Mark Vadik   \n",
       "11979             Keisuke Koide             Yûichi Satô   \n",
       "11980               Diana Lorys            Jesús Franco   \n",
       "11981                Marc Porel             Lucio Fulci   \n",
       "11982                 Ida Galli       Massimo Dallamano   \n",
       "11983              Anne Francis            John Sturges   \n",
       "11984                 Lee Marks          Craig Ross Jr.   \n",
       "11985               Trent Haaga            Tammi Sutton   \n",
       "11986          Scatman Crothers            Ralph Bakshi   \n",
       "11987            Anthony Dexter        William Marshall   \n",
       "11988          Michael Sarrazin      Frédéric Forestier   \n",
       "11989               Çağan Irmak             Serdar Akar   \n",
       "11990                 Amy Adams         Robert Lee King   \n",
       "11991                Zoe Cooper               Bret Wood   \n",
       "11992               Alan Curtis             Raoul Walsh   \n",
       "11993         Richard Roundtree             Larry Cohen   \n",
       "11994         Patrick Guillemin      Pierre B. Reinhard   \n",
       "11995  Michael Kenneth Williams           Joshua Goldin   \n",
       "11996               Whip Hubley          Rick Rosenthal   \n",
       "11997       Janet Tracy Keijser              Brad Sykes   \n",
       "11998             Samuel Fuller             Larry Cohen   \n",
       "11999         Tsuyoshi Kusanagi        Kiyoshi Kurosawa   \n",
       "12000                 Lisa Loeb         Trace Slobotkin   \n",
       "12001                 Paul Cook           Julien Temple   \n",
       "12002                Melvin Lee             Royston Tan   \n",
       "12003                       NaN            Dave Edwards   \n",
       "12004               David Niven  Nicholas Ray Guy Green   \n",
       "12005              Patrick Lowe           Deborah Brock   \n",
       "12006                John Mowod           John A. Russo   \n",
       "12007                Maria Ford          Sally Mattison   \n",
       "12008                J.T. Walsh     George Hickenlooper   \n",
       "12009             Robert Rusler          Tom McLoughlin   \n",
       "12010              Hilary Swank           Adam Grossman   \n",
       "12011               Max Perlich       Daniel Zelik Berk   \n",
       "12012             Marie Prevost         Lewis Milestone   \n",
       "12013             Anthony Zerbe              Lance Hool   \n",
       "12014           Brett Harrelson            John Pieplow   \n",
       "12015             Kevin McNulty         Peter MacDonald   \n",
       "12016             Tomohiro Kaku             Shunji Iwai   \n",
       "12017           Dermot Mulroney       Peter Bogdanovich   \n",
       "12018           Margaret Gerard   Brian Trenchard-Smith   \n",
       "12019            Beverly Bonner       Frank Henenlotter   \n",
       "12020          Gordon MacDonald       Frank Henenlotter   \n",
       "12021           Heather Rattray       Frank Henenlotter   \n",
       "12022                 Gil Roper       Frank Henenlotter   \n",
       "12023                 Jeri Ryan           Harry Ralston   \n",
       "\n",
       "                             original_title  \\\n",
       "11974                              D.C. Cab   \n",
       "11975                      Wish Upon a Star   \n",
       "11976                         The Last Time   \n",
       "11977                            State Fair   \n",
       "11978                         The Thirsting   \n",
       "11979                                  キサラギ   \n",
       "11980                    Gritos en la noche   \n",
       "11981                    Sette note in nero   \n",
       "11982            Il medaglione insanguinato   \n",
       "11983                         The Satan Bug   \n",
       "11984                               Killjoy   \n",
       "11985      Killjoy 2: Deliverance from Evil   \n",
       "11986                              Coonskin   \n",
       "11987                    The Phantom Planet   \n",
       "11988                       The Peacekeeper   \n",
       "11989                                 Barda   \n",
       "11990                    Psycho Beach Party   \n",
       "11991                 Psychopathia Sexualis   \n",
       "11992                           High Sierra   \n",
       "11993                                     Q   \n",
       "11994       La revanche des mortes vivantes   \n",
       "11995                       Wonderful World   \n",
       "11996                              Russkies   \n",
       "11997                 The Zombie Chronicles   \n",
       "11998               A Return to Salem's Lot   \n",
       "11999                                    降霊   \n",
       "12000               Serial Killing 4 Dummys   \n",
       "12001                The Filth and the Fury   \n",
       "12002                         15: The Movie   \n",
       "12003          The Little Engine That Could   \n",
       "12004                     55 Days at Peking   \n",
       "12005             Slumber Party Massacre II   \n",
       "12006                           Santa Claws   \n",
       "12007            Slumber Party Massacre III   \n",
       "12008      Some Folks Call It a Sling Blade   \n",
       "12009              Sometimes They Come Back   \n",
       "12010     Sometimes They Come Back... Again   \n",
       "12011  Sometimes They Come Back... for More   \n",
       "12012                            The Racket   \n",
       "12013                            Steel Dawn   \n",
       "12014                           Strangeland   \n",
       "12015             The NeverEnding Story III   \n",
       "12016                                 花とアリス   \n",
       "12017                 The Thing Called Love   \n",
       "12018                            Stunt Rock   \n",
       "12019                           Basket Case   \n",
       "12020                          Brain Damage   \n",
       "12021                         Basket Case 2   \n",
       "12022                         Basket Case 3   \n",
       "12023                          The Last Man   \n",
       "\n",
       "                               genres_list  \n",
       "11974               Adventure Comedy Crime  \n",
       "11975                Family Comedy Fantasy  \n",
       "11976                        Drama Romance  \n",
       "11977                        Music Romance  \n",
       "11978                               Horror  \n",
       "11979                       Comedy Mystery  \n",
       "11980                      Horror Thriller  \n",
       "11981              Mystery Thriller Horror  \n",
       "11982                               Horror  \n",
       "11983        Mystery Sci-Fi Thriller Crime  \n",
       "11984                               Horror  \n",
       "11985                               Horror  \n",
       "11986  Action Animation Comedy Crime Drama  \n",
       "11987                               Sci-Fi  \n",
       "11988                      Action Thriller  \n",
       "11989                                Drama  \n",
       "11990                               Comedy  \n",
       "11991                        Drama Romance  \n",
       "11992       Adventure Drama Thriller Crime  \n",
       "11993                 Drama Horror Fantasy  \n",
       "11994                       Horror Foreign  \n",
       "11995                 Comedy Drama Romance  \n",
       "11996                         Drama Family  \n",
       "11997                                  NaN  \n",
       "11998                               Horror  \n",
       "11999                         Drama Horror  \n",
       "12000                        Horror Comedy  \n",
       "12001                    Documentary Music  \n",
       "12002           Comedy Crime Drama Foreign  \n",
       "12003              Action Adventure Family  \n",
       "12004                 Action Drama History  \n",
       "12005                        Horror Comedy  \n",
       "12006                               Horror  \n",
       "12007                        Horror Comedy  \n",
       "12008                       Drama Thriller  \n",
       "12009                Drama Horror Thriller  \n",
       "12010                               Horror  \n",
       "12011                               Horror  \n",
       "12012                          Crime Drama  \n",
       "12013              Action Adventure Sci-Fi  \n",
       "12014                               Horror  \n",
       "12015                              Fantasy  \n",
       "12016                 Drama Comedy Romance  \n",
       "12017                  Music Drama Romance  \n",
       "12018                   Action Drama Music  \n",
       "12019                        Comedy Horror  \n",
       "12020                        Comedy Horror  \n",
       "12021                               Horror  \n",
       "12022                               Horror  \n",
       "12023                               Comedy  "
      ]
     },
     "execution_count": 30,
     "metadata": {},
     "output_type": "execute_result"
    }
   ],
   "source": [
    "Final_Data.tail(50)"
   ]
  },
  {
   "cell_type": "code",
   "execution_count": 31,
   "metadata": {
    "scrolled": true
   },
   "outputs": [
    {
     "data": {
      "text/plain": [
       "(12024, 7)"
      ]
     },
     "execution_count": 31,
     "metadata": {},
     "output_type": "execute_result"
    }
   ],
   "source": [
    "Final_Data.shape"
   ]
  },
  {
   "cell_type": "code",
   "execution_count": 32,
   "metadata": {
    "scrolled": true
   },
   "outputs": [
    {
     "data": {
      "text/html": [
       "<div>\n",
       "<style scoped>\n",
       "    .dataframe tbody tr th:only-of-type {\n",
       "        vertical-align: middle;\n",
       "    }\n",
       "\n",
       "    .dataframe tbody tr th {\n",
       "        vertical-align: top;\n",
       "    }\n",
       "\n",
       "    .dataframe thead th {\n",
       "        text-align: right;\n",
       "    }\n",
       "</style>\n",
       "<table border=\"1\" class=\"dataframe\">\n",
       "  <thead>\n",
       "    <tr style=\"text-align: right;\">\n",
       "      <th></th>\n",
       "      <th>id</th>\n",
       "      <th>Actor1</th>\n",
       "      <th>Actor2</th>\n",
       "      <th>Actor3</th>\n",
       "      <th>Director_Name</th>\n",
       "      <th>original_title</th>\n",
       "      <th>genres_list</th>\n",
       "    </tr>\n",
       "  </thead>\n",
       "  <tbody>\n",
       "    <tr>\n",
       "      <th>12019</th>\n",
       "      <td>27813</td>\n",
       "      <td>Kevin Van Hentenryck</td>\n",
       "      <td>Terri Susan Smith</td>\n",
       "      <td>Beverly Bonner</td>\n",
       "      <td>Frank Henenlotter</td>\n",
       "      <td>Basket Case</td>\n",
       "      <td>Comedy Horror</td>\n",
       "    </tr>\n",
       "    <tr>\n",
       "      <th>12020</th>\n",
       "      <td>27814</td>\n",
       "      <td>Rick Hearst</td>\n",
       "      <td>Jennifer Lowry</td>\n",
       "      <td>Gordon MacDonald</td>\n",
       "      <td>Frank Henenlotter</td>\n",
       "      <td>Brain Damage</td>\n",
       "      <td>Comedy Horror</td>\n",
       "    </tr>\n",
       "    <tr>\n",
       "      <th>12021</th>\n",
       "      <td>27815</td>\n",
       "      <td>Kevin Van Hentenryck</td>\n",
       "      <td>Annie Ross</td>\n",
       "      <td>Heather Rattray</td>\n",
       "      <td>Frank Henenlotter</td>\n",
       "      <td>Basket Case 2</td>\n",
       "      <td>Horror</td>\n",
       "    </tr>\n",
       "    <tr>\n",
       "      <th>12022</th>\n",
       "      <td>27816</td>\n",
       "      <td>Kevin Van Hentenryck</td>\n",
       "      <td>Annie Ross</td>\n",
       "      <td>Gil Roper</td>\n",
       "      <td>Frank Henenlotter</td>\n",
       "      <td>Basket Case 3</td>\n",
       "      <td>Horror</td>\n",
       "    </tr>\n",
       "    <tr>\n",
       "      <th>12023</th>\n",
       "      <td>27824</td>\n",
       "      <td>Dan Montgomery Jr.</td>\n",
       "      <td>David Arnott</td>\n",
       "      <td>Jeri Ryan</td>\n",
       "      <td>Harry Ralston</td>\n",
       "      <td>The Last Man</td>\n",
       "      <td>Comedy</td>\n",
       "    </tr>\n",
       "  </tbody>\n",
       "</table>\n",
       "</div>"
      ],
      "text/plain": [
       "          id                Actor1             Actor2            Actor3  \\\n",
       "12019  27813  Kevin Van Hentenryck  Terri Susan Smith    Beverly Bonner   \n",
       "12020  27814           Rick Hearst     Jennifer Lowry  Gordon MacDonald   \n",
       "12021  27815  Kevin Van Hentenryck         Annie Ross   Heather Rattray   \n",
       "12022  27816  Kevin Van Hentenryck         Annie Ross         Gil Roper   \n",
       "12023  27824    Dan Montgomery Jr.       David Arnott         Jeri Ryan   \n",
       "\n",
       "           Director_Name original_title    genres_list  \n",
       "12019  Frank Henenlotter    Basket Case  Comedy Horror  \n",
       "12020  Frank Henenlotter   Brain Damage  Comedy Horror  \n",
       "12021  Frank Henenlotter  Basket Case 2         Horror  \n",
       "12022  Frank Henenlotter  Basket Case 3         Horror  \n",
       "12023      Harry Ralston   The Last Man         Comedy  "
      ]
     },
     "execution_count": 32,
     "metadata": {},
     "output_type": "execute_result"
    }
   ],
   "source": [
    "Final_Data.tail()"
   ]
  },
  {
   "cell_type": "code",
   "execution_count": 33,
   "metadata": {
    "scrolled": true
   },
   "outputs": [
    {
     "data": {
      "text/plain": [
       "id                11982\n",
       "Actor1             5332\n",
       "Actor2             6972\n",
       "Actor3             7816\n",
       "Director_Name      5626\n",
       "original_title    11704\n",
       "genres_list        2052\n",
       "dtype: int64"
      ]
     },
     "execution_count": 33,
     "metadata": {},
     "output_type": "execute_result"
    }
   ],
   "source": [
    "Final_Data.nunique()"
   ]
  },
  {
   "cell_type": "code",
   "execution_count": 34,
   "metadata": {},
   "outputs": [
    {
     "data": {
      "text/plain": [
       "id                  0\n",
       "Actor1            117\n",
       "Actor2            273\n",
       "Actor3            371\n",
       "Director_Name      51\n",
       "original_title      0\n",
       "genres_list        29\n",
       "dtype: int64"
      ]
     },
     "execution_count": 34,
     "metadata": {},
     "output_type": "execute_result"
    }
   ],
   "source": [
    "Final_Data.isnull().sum()"
   ]
  },
  {
   "cell_type": "code",
   "execution_count": 35,
   "metadata": {},
   "outputs": [],
   "source": [
    "Final_Data.dropna(how= 'any', inplace=True)"
   ]
  },
  {
   "cell_type": "code",
   "execution_count": 36,
   "metadata": {},
   "outputs": [
    {
     "data": {
      "text/plain": [
       "id                0\n",
       "Actor1            0\n",
       "Actor2            0\n",
       "Actor3            0\n",
       "Director_Name     0\n",
       "original_title    0\n",
       "genres_list       0\n",
       "dtype: int64"
      ]
     },
     "execution_count": 36,
     "metadata": {},
     "output_type": "execute_result"
    }
   ],
   "source": [
    "Final_Data.isnull().sum()"
   ]
  },
  {
   "cell_type": "code",
   "execution_count": 37,
   "metadata": {
    "scrolled": true
   },
   "outputs": [
    {
     "data": {
      "text/plain": [
       "(11606, 7)"
      ]
     },
     "execution_count": 37,
     "metadata": {},
     "output_type": "execute_result"
    }
   ],
   "source": [
    "Final_Data.shape"
   ]
  },
  {
   "cell_type": "code",
   "execution_count": 38,
   "metadata": {
    "scrolled": false
   },
   "outputs": [
    {
     "data": {
      "text/plain": [
       "id                11567\n",
       "Actor1             5167\n",
       "Actor2             6869\n",
       "Actor3             7780\n",
       "Director_Name      5390\n",
       "original_title    11294\n",
       "genres_list        2011\n",
       "dtype: int64"
      ]
     },
     "execution_count": 38,
     "metadata": {},
     "output_type": "execute_result"
    }
   ],
   "source": [
    "Final_Data.nunique()"
   ]
  },
  {
   "cell_type": "code",
   "execution_count": 39,
   "metadata": {},
   "outputs": [],
   "source": [
    "Final_Data.drop_duplicates(subset=\"original_title\", keep=\"last\", inplace=True)"
   ]
  },
  {
   "cell_type": "code",
   "execution_count": 40,
   "metadata": {},
   "outputs": [
    {
     "data": {
      "text/plain": [
       "(11294, 7)"
      ]
     },
     "execution_count": 40,
     "metadata": {},
     "output_type": "execute_result"
    }
   ],
   "source": [
    "Final_Data.shape"
   ]
  },
  {
   "cell_type": "code",
   "execution_count": 41,
   "metadata": {},
   "outputs": [
    {
     "data": {
      "text/plain": [
       "Index(['id', 'Actor1', 'Actor2', 'Actor3', 'Director_Name', 'original_title',\n",
       "       'genres_list'],\n",
       "      dtype='object')"
      ]
     },
     "execution_count": 41,
     "metadata": {},
     "output_type": "execute_result"
    }
   ],
   "source": [
    "Final_Data.columns"
   ]
  },
  {
   "cell_type": "code",
   "execution_count": 42,
   "metadata": {},
   "outputs": [],
   "source": [
    "Final_Data[\"Comb\"] = Final_Data[\"Actor1\"]+ ' ' + Final_Data['Actor2']+ ' ' + Final_Data['Actor3']+ ' ' + Final_Data['Director_Name']+' '+ Final_Data['genres_list']"
   ]
  },
  {
   "cell_type": "code",
   "execution_count": 43,
   "metadata": {},
   "outputs": [
    {
     "data": {
      "text/plain": [
       "(11294, 8)"
      ]
     },
     "execution_count": 43,
     "metadata": {},
     "output_type": "execute_result"
    }
   ],
   "source": [
    "Final_Data.shape"
   ]
  },
  {
   "cell_type": "code",
   "execution_count": 44,
   "metadata": {},
   "outputs": [],
   "source": [
    "Final_Data.to_csv('Final_Data.csv',index=False, header=True)"
   ]
  }
 ],
 "metadata": {
  "kernelspec": {
   "display_name": "Python 3",
   "language": "python",
   "name": "python3"
  },
  "language_info": {
   "codemirror_mode": {
    "name": "ipython",
    "version": 3
   },
   "file_extension": ".py",
   "mimetype": "text/x-python",
   "name": "python",
   "nbconvert_exporter": "python",
   "pygments_lexer": "ipython3",
   "version": "3.8.5"
  }
 },
 "nbformat": 4,
 "nbformat_minor": 4
}
